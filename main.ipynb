{
 "cells": [
  {
   "cell_type": "code",
   "execution_count": 3,
   "metadata": {},
   "outputs": [],
   "source": [
    "import pandas as pd\n",
    "import geopandas as gpd\n",
    "\n",
    "\n",
    "import requests\n",
    "\n",
    "\n",
    "import os\n",
    "\n",
    "\n",
    "\n",
    "from geojson import FeatureCollection\n",
    "import shapely"
   ]
  },
  {
   "cell_type": "markdown",
   "metadata": {},
   "source": [
    "##### IMPORT LOCAL DATA\n"
   ]
  },
  {
   "cell_type": "code",
   "execution_count": 3,
   "metadata": {},
   "outputs": [],
   "source": [
    "bars = pd.read_excel(\"nashville-bars-data.xlsx\")\n",
    "MAPBOX_TOKEN = os.getenv(\"MAPBOX_TOKEN\")"
   ]
  },
  {
   "cell_type": "code",
   "execution_count": 4,
   "metadata": {},
   "outputs": [],
   "source": [
    "def mapboxGeocode(params: dict = {}):\n",
    "    baseUrl = \"https://api.mapbox.com/search/geocode/v6/forward\"\n",
    "    req = requests.get(baseUrl, params=params)\n",
    "    return req.json()\n",
    "\n",
    "\n",
    "def getGeocodeCoordinates(result: FeatureCollection):\n",
    "    return \",\".join(([str(x) for x in result['features'][0][\"geometry\"][\"coordinates\"]]))\n",
    "\n",
    "\n",
    "def getAddressCoordinates(address):\n",
    "    mapbox_query = {\n",
    "        \"q\": address,\n",
    "        \"access_token\": MAPBOX_TOKEN,\n",
    "        \"country\": 'US'\n",
    "    }\n",
    "    geocode_results = mapboxGeocode(mapbox_query)\n",
    "    string_coordinates = getGeocodeCoordinates(geocode_results)\n",
    "    return string_coordinates"
   ]
  },
  {
   "cell_type": "code",
   "execution_count": 5,
   "metadata": {},
   "outputs": [],
   "source": [
    "bars['coordinates'] = bars[\"address\"].apply(lambda x: getAddressCoordinates(x))\n",
    "bars['longitude'] = bars[\"coordinates\"].apply(lambda x: float(x.split(\",\")[0]))\n",
    "bars['latitude'] = bars[\"coordinates\"].apply(lambda x: float(x.split(\",\")[1]))"
   ]
  },
  {
   "cell_type": "code",
   "execution_count": 6,
   "metadata": {},
   "outputs": [],
   "source": [
    "bars.to_json(\"nashville-bars-data.json\", orient=\"records\")"
   ]
  },
  {
   "cell_type": "code",
   "execution_count": 2,
   "metadata": {},
   "outputs": [],
   "source": [
    "bars = pd.read_json(\"nashville-bars-data.json\")"
   ]
  },
  {
   "cell_type": "code",
   "execution_count": null,
   "metadata": {},
   "outputs": [],
   "source": [
    "bars['geometry'] = bars.apply(lambda x:  shapely.Point(\n",
    "    [x['longitude'], x['latitude']]), axis=1)"
   ]
  },
  {
   "cell_type": "code",
   "execution_count": 7,
   "metadata": {},
   "outputs": [],
   "source": [
    "bars_gdf = gpd.GeoDataFrame(bars, geometry=\"geometry\")"
   ]
  },
  {
   "cell_type": "code",
   "execution_count": 8,
   "metadata": {},
   "outputs": [],
   "source": [
    "zipcodes_gdf = gpd.read_file(\"nashville_zipcode_refined.json\")"
   ]
  },
  {
   "cell_type": "code",
   "execution_count": 26,
   "metadata": {},
   "outputs": [],
   "source": [
    "def getProFromIntersect(k: gpd.GeoSeries, t: gpd.GeoDataFrame, p: str):\n",
    "    loc: list[shapely.Polygon | shapely.MultiPolygon] = list(t.geometry)\n",
    "    count = 0\n",
    "    found = False\n",
    "    while not found:\n",
    "        item_loc = loc[count]\n",
    "        found = item_loc.intersects(k.geometry)\n",
    "        if (found):\n",
    "            break\n",
    "        else:\n",
    "            count += 1\n",
    "\n",
    "    return t[p][count]"
   ]
  },
  {
   "cell_type": "code",
   "execution_count": null,
   "metadata": {},
   "outputs": [],
   "source": [
    "bars_gdf['zipcode'] = bars_gdf.apply(\n",
    "    lambda x: getProFromIntersect(x, zipcodes_gdf, \"zipcode\"), axis=1)"
   ]
  },
  {
   "cell_type": "code",
   "execution_count": 29,
   "metadata": {},
   "outputs": [],
   "source": [
    "bars_gdf.to_file(\"nashville-bars-data.geojson\", driver=\"GeoJSON\")"
   ]
  },
  {
   "cell_type": "code",
   "execution_count": null,
   "metadata": {},
   "outputs": [],
   "source": []
  }
 ],
 "metadata": {
  "kernelspec": {
   "display_name": "Python 3",
   "language": "python",
   "name": "python3"
  },
  "language_info": {
   "codemirror_mode": {
    "name": "ipython",
    "version": 3
   },
   "file_extension": ".py",
   "mimetype": "text/x-python",
   "name": "python",
   "nbconvert_exporter": "python",
   "pygments_lexer": "ipython3",
   "version": "3.11.4"
  }
 },
 "nbformat": 4,
 "nbformat_minor": 2
}
