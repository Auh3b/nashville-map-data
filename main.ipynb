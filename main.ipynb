{
 "cells": [
  {
   "cell_type": "code",
   "execution_count": 1,
   "metadata": {},
   "outputs": [],
   "source": [
    "import pandas as pd\n",
    "import geopandas as gpd\n",
    "import requests\n",
    "import os\n",
    "from geojson import FeatureCollection\n",
    "import shapely\n",
    "import uuid\n",
    "import random"
   ]
  },
  {
   "cell_type": "markdown",
   "metadata": {},
   "source": [
    "##### IMPORT LOCAL DATA\n"
   ]
  },
  {
   "cell_type": "code",
   "execution_count": 3,
   "metadata": {},
   "outputs": [],
   "source": [
    "bars = pd.read_excel(\"nashville-bars-data.xlsx\")\n",
    "MAPBOX_TOKEN = os.getenv(\"MAPBOX_TOKEN\")"
   ]
  },
  {
   "cell_type": "code",
   "execution_count": 4,
   "metadata": {},
   "outputs": [],
   "source": [
    "def mapboxGeocode(params: dict = {}):\n",
    "    baseUrl = \"https://api.mapbox.com/search/geocode/v6/forward\"\n",
    "    req = requests.get(baseUrl, params=params)\n",
    "    return req.json()\n",
    "\n",
    "\n",
    "def getGeocodeCoordinates(result: FeatureCollection):\n",
    "    return \",\".join(([str(x) for x in result['features'][0][\"geometry\"][\"coordinates\"]]))\n",
    "\n",
    "\n",
    "def getAddressCoordinates(address):\n",
    "    mapbox_query = {\n",
    "        \"q\": address,\n",
    "        \"access_token\": MAPBOX_TOKEN,\n",
    "        \"country\": 'US'\n",
    "    }\n",
    "    geocode_results = mapboxGeocode(mapbox_query)\n",
    "    string_coordinates = getGeocodeCoordinates(geocode_results)\n",
    "    return string_coordinates"
   ]
  },
  {
   "cell_type": "code",
   "execution_count": 5,
   "metadata": {},
   "outputs": [],
   "source": [
    "bars['coordinates'] = bars[\"address\"].apply(lambda x: getAddressCoordinates(x))\n",
    "bars['longitude'] = bars[\"coordinates\"].apply(lambda x: float(x.split(\",\")[0]))\n",
    "bars['latitude'] = bars[\"coordinates\"].apply(lambda x: float(x.split(\",\")[1]))"
   ]
  },
  {
   "cell_type": "code",
   "execution_count": 6,
   "metadata": {},
   "outputs": [],
   "source": [
    "bars.to_json(\"nashville-bars-data.json\", orient=\"records\")"
   ]
  },
  {
   "cell_type": "code",
   "execution_count": 2,
   "metadata": {},
   "outputs": [],
   "source": [
    "bars = pd.read_json(\"nashville-bars-data.json\")"
   ]
  },
  {
   "cell_type": "code",
   "execution_count": null,
   "metadata": {},
   "outputs": [],
   "source": [
    "bars['geometry'] = bars.apply(lambda x:  shapely.Point(\n",
    "    [x['longitude'], x['latitude']]), axis=1)"
   ]
  },
  {
   "cell_type": "code",
   "execution_count": 7,
   "metadata": {},
   "outputs": [],
   "source": [
    "bars_gdf = gpd.GeoDataFrame(bars, geometry=\"geometry\")"
   ]
  },
  {
   "cell_type": "code",
   "execution_count": 8,
   "metadata": {},
   "outputs": [],
   "source": [
    "zipcodes_gdf = gpd.read_file(\"nashville_zipcode_refined.json\")"
   ]
  },
  {
   "cell_type": "code",
   "execution_count": 34,
   "metadata": {},
   "outputs": [],
   "source": [
    "def getProFromIntersect(k: gpd.GeoSeries, t: gpd.GeoDataFrame, p: str):\n",
    "    loc: list[shapely.Polygon | shapely.MultiPolygon] = list(t.geometry)\n",
    "    count = 0\n",
    "    found = False\n",
    "    while not found:\n",
    "        if (count == len(loc)):\n",
    "            return None\n",
    "\n",
    "        item_loc = loc[count]\n",
    "        found = item_loc.intersects(k.geometry)\n",
    "        if (found):\n",
    "            break\n",
    "        else:\n",
    "            count += 1\n",
    "\n",
    "    return t[p][count]"
   ]
  },
  {
   "cell_type": "code",
   "execution_count": null,
   "metadata": {},
   "outputs": [],
   "source": [
    "bars_gdf['zipcode'] = bars_gdf.apply(\n",
    "    lambda x: getProFromIntersect(x, zipcodes_gdf, \"zipcode\"), axis=1)"
   ]
  },
  {
   "cell_type": "code",
   "execution_count": 29,
   "metadata": {},
   "outputs": [],
   "source": [
    "bars_gdf.to_file(\"nashville-bars-data.geojson\", driver=\"GeoJSON\")"
   ]
  },
  {
   "cell_type": "markdown",
   "metadata": {},
   "source": [
    "##### CUSTOM NEIGHBOURHOOD\n"
   ]
  },
  {
   "cell_type": "code",
   "execution_count": 32,
   "metadata": {},
   "outputs": [],
   "source": [
    "bars_gdf = gpd.read_file(\"nashville-bars-data.geojson\")\n",
    "hood_gpf = gpd.read_file(\"nashville-neighbourhoods-custom.geojson\")"
   ]
  },
  {
   "cell_type": "code",
   "execution_count": null,
   "metadata": {},
   "outputs": [],
   "source": [
    "bars_gdf['hood'] = bars_gdf.apply(\n",
    "    lambda x: getProFromIntersect(x, hood_gpf, 'name'), axis=1)"
   ]
  },
  {
   "cell_type": "code",
   "execution_count": 39,
   "metadata": {},
   "outputs": [],
   "source": [
    "bars_gdf.to_file(\"nashville-bars-data.geojson\", driver=\"GeoJSON\")"
   ]
  },
  {
   "cell_type": "markdown",
   "metadata": {},
   "source": [
    "##### ADD ID\n"
   ]
  },
  {
   "cell_type": "code",
   "execution_count": 2,
   "metadata": {},
   "outputs": [],
   "source": [
    "bars_gdf = gpd.read_file(\"nashville-bars-data.geojson\")\n",
    "hood_gpf = gpd.read_file(\"nashville-neighbourhoods-custom.geojson\")"
   ]
  },
  {
   "cell_type": "code",
   "execution_count": 10,
   "metadata": {},
   "outputs": [],
   "source": [
    "bars_gdf['id'] = bars_gdf.apply(lambda x: str(uuid.uuid4()), axis=1)\n",
    "hood_gpf['id'] = hood_gpf.apply(lambda x: str(uuid.uuid4()), axis=1)"
   ]
  },
  {
   "cell_type": "code",
   "execution_count": 11,
   "metadata": {},
   "outputs": [],
   "source": [
    "bars_gdf.to_file(\"nashville-bars-data.geojson\", driver=\"GeoJSON\")\n",
    "hood_gpf.to_file(\"nashville-neighbourhoods-custom.geojson\", driver=\"GeoJSON\")"
   ]
  },
  {
   "cell_type": "markdown",
   "metadata": {},
   "source": [
    "##### For wordpress database\n"
   ]
  },
  {
   "cell_type": "code",
   "execution_count": 2,
   "metadata": {},
   "outputs": [],
   "source": [
    "bars_gdf = gpd.read_file(\"nashville-bars-data.geojson\")\n",
    "hood_gpf = gpd.read_file(\"nashville-neighbourhoods-custom.geojson\")"
   ]
  },
  {
   "cell_type": "code",
   "execution_count": 6,
   "metadata": {},
   "outputs": [],
   "source": [
    "bars_gdf.to_csv(\"nashville-bars-data-sql.csv\", index=False)\n",
    "hood_gpf.to_csv(\"nashville-hoods-data-sql.csv\", index=False)"
   ]
  },
  {
   "cell_type": "code",
   "execution_count": 5,
   "metadata": {},
   "outputs": [],
   "source": [
    "pd.read_csv(\"nashville-bars-data-sql.csv\").to_json(\n",
    "    \"nashville-bars-data-sql.json\", index=False, orient=\"records\")\n",
    "pd.read_csv(\"nashville-hoods-data-sql.csv\").to_json(\"nashville-hoods-data-sql.json\",\n",
    "                                                    index=False, orient=\"records\")"
   ]
  },
  {
   "cell_type": "markdown",
   "metadata": {},
   "source": [
    "#### add categories\n"
   ]
  },
  {
   "cell_type": "code",
   "execution_count": 5,
   "metadata": {},
   "outputs": [],
   "source": [
    "bars_gdf = pd.read_csv(\"nashville-bars-data-sql.csv\")"
   ]
  },
  {
   "cell_type": "code",
   "execution_count": 6,
   "metadata": {},
   "outputs": [],
   "source": [
    "prime_cat = [\"Bar\", \"Restaurant\", \"Accomodation\", \"Live Music Venue\"]\n",
    "bars_sub_cat = [\"Speekeasy\", \"Celebrity\", \"Dive Bar\", \"Classic\"]\n",
    "acco_sub_cat = ['AirBnB', \"VRBO\"]"
   ]
  },
  {
   "cell_type": "code",
   "execution_count": 7,
   "metadata": {},
   "outputs": [],
   "source": [
    "bars_gdf['primary'] = random.choices(\n",
    "    prime_cat, weights=[3, 1, 2, 1],  k=10)"
   ]
  },
  {
   "cell_type": "code",
   "execution_count": 8,
   "metadata": {},
   "outputs": [],
   "source": [
    "def getSubCat(cat: str):\n",
    "    if \"Bar\" == cat:\n",
    "        return random.choice(bars_sub_cat)\n",
    "    if \"Accomodation\" == cat:\n",
    "        return random.choice(acco_sub_cat)\n",
    "    return \"\""
   ]
  },
  {
   "cell_type": "code",
   "execution_count": 9,
   "metadata": {},
   "outputs": [],
   "source": [
    "bars_gdf['secondary'] = bars_gdf.apply(lambda x: getSubCat(x.primary), axis=1)"
   ]
  },
  {
   "cell_type": "code",
   "execution_count": 38,
   "metadata": {},
   "outputs": [],
   "source": [
    "bars_gdf.to_file(\"nashville-bars-data.geojson\", driver=\"GeoJSON\")"
   ]
  },
  {
   "cell_type": "code",
   "execution_count": 2,
   "metadata": {},
   "outputs": [],
   "source": [
    "bars_gdf = gpd.read_file(\"nashville-bars-data.geojson\")"
   ]
  },
  {
   "cell_type": "code",
   "execution_count": 12,
   "metadata": {},
   "outputs": [],
   "source": [
    "bars_gdf.to_csv('nashville-bars-data-sql.csv')"
   ]
  },
  {
   "cell_type": "code",
   "execution_count": null,
   "metadata": {},
   "outputs": [],
   "source": [
    "icons = [\n",
    "    {\n",
    "        label: 'hotel-spot',\n",
    "        url: 'https://raw.githubusercontent.com/Auh3b/nashville-map-data/refs/heads/main/hotel-sdf.png',\n",
    "    },\n",
    "    {\n",
    "        label: 'bar-spot',\n",
    "        url: 'https://raw.githubusercontent.com/Auh3b/nashville-map-data/refs/heads/main/beer-1-sdf.png',\n",
    "    },\n",
    "    {\n",
    "        label: 'restaurant-spot',\n",
    "        url: 'https://raw.githubusercontent.com/Auh3b/nashville-map-data/refs/heads/main/restaurant-sdf.png',\n",
    "    },\n",
    "    {\n",
    "        label: 'live-event-spot',\n",
    "        url: 'https://raw.githubusercontent.com/Auh3b/nashville-map-data/refs/heads/main/live-events-sdf.png',\n",
    "    },\n",
    "]"
   ]
  }
 ],
 "metadata": {
  "kernelspec": {
   "display_name": "Python 3",
   "language": "python",
   "name": "python3"
  },
  "language_info": {
   "codemirror_mode": {
    "name": "ipython",
    "version": 3
   },
   "file_extension": ".py",
   "mimetype": "text/x-python",
   "name": "python",
   "nbconvert_exporter": "python",
   "pygments_lexer": "ipython3",
   "version": "3.11.4"
  }
 },
 "nbformat": 4,
 "nbformat_minor": 2
}
